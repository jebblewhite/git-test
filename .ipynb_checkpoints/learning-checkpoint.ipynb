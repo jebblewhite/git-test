{
 "cells": [
  {
   "cell_type": "markdown",
   "metadata": {},
   "source": [
    "# New things I learn in python\n",
    "Just a small file showing off what I learn when I really try to push myself to learn.\n",
    "Both for my own benefit and the benefit of others (eventually; if the examples are applicable enough).\n",
    "\n",
    "### Entry 1: quick reverse sorting using slicing"
   ]
  },
  {
   "cell_type": "code",
   "execution_count": 2,
   "metadata": {},
   "outputs": [
    {
     "name": "stdout",
     "output_type": "stream",
     "text": [
      "[('Mohamed', 13262.0), ('Sara', 4816.0), ('Xia', 6839.0), ('Paul', 5054.0), ('Valentina', 14724.0), ('Jide', 5360.0), ('Aaron', 7640.0), ('Emily', 6072.0), ('Nikita', 2750.0), ('Paul', 12064.0), ('Priscilla', 8320.0)]\n"
     ]
    }
   ],
   "source": [
    "names = [\"Mohamed\", \"Sara\", \"Xia\", \"Paul\", \"Valentina\", \"Jide\", \"Aaron\", \"Emily\", \"Nikita\", \"Paul\"]\n",
    "insurance_costs = [13262.0, 4816.0, 6839.0, 5054.0, 14724.0, 5360.0, 7640.0, 6072.0, 2750.0, 12064.0]\n",
    "\n",
    "names.append(\"Priscilla\")\n",
    "insurance_costs.append(8320.0)\n",
    "\n",
    "medical_records = list(zip(names,insurance_costs))\n",
    "\n",
    "print(medical_records)\n"
   ]
  },
  {
   "cell_type": "markdown",
   "metadata": {},
   "source": [
    "Using the above list, we will sort by cheapest and priciest.\n"
   ]
  },
  {
   "cell_type": "code",
   "execution_count": 4,
   "metadata": {},
   "outputs": [
    {
     "name": "stdout",
     "output_type": "stream",
     "text": [
      "Here are the medical records sorted by insurance cost: [('Nikita', 2750.0), ('Sara', 4816.0), ('Paul', 5054.0), ('Jide', 5360.0), ('Emily', 6072.0), ('Xia', 6839.0), ('Aaron', 7640.0), ('Priscilla', 8320.0), ('Paul', 12064.0), ('Mohamed', 13262.0), ('Valentina', 14724.0)]\n"
     ]
    }
   ],
   "source": [
    "medical_records.sort(key=lambda x:x[1])\n",
    "print(\"Here are the medical records sorted by insurance cost: {}\".format(medical_records))"
   ]
  },
  {
   "cell_type": "markdown",
   "metadata": {},
   "source": [
    "This now returns the list by cost, which is the 1st indexed element within each tuple. \n",
    "Now that the list has been returned as such we can show the alternative most expensive by slicing ([start:stop:step])"
   ]
  },
  {
   "cell_type": "code",
   "execution_count": 6,
   "metadata": {},
   "outputs": [
    {
     "name": "stdout",
     "output_type": "stream",
     "text": [
      "Here are the three cheapest insurance costs in our medical records: [('Nikita', 2750.0), ('Sara', 4816.0), ('Paul', 5054.0)]\n",
      "Here are the three most expensive insurance costs in our medical records: [('Valentina', 14724.0), ('Mohamed', 13262.0), ('Paul', 12064.0)]\n"
     ]
    }
   ],
   "source": [
    "cheapest_three = medical_records[:3]\n",
    "print(\"Here are the three cheapest insurance costs in our medical records: {}\".format(cheapest_three))\n",
    "\n",
    "priciest_three = medical_records[-3:][::-1]\n",
    "\n",
    "print(\"Here are the three most expensive insurance costs in our medical records: {}\".format(priciest_three))"
   ]
  },
  {
   "cell_type": "markdown",
   "metadata": {},
   "source": [
    "In the first example, it is a simple case of slicing and returning the first three elements. In the second example the last three is returned, but before returning the sliced list, a new version of the list where the list steps backward is instead given."
   ]
  },
  {
   "cell_type": "markdown",
   "metadata": {},
   "source": [
    "### Entry 1.5: list comprehension\n",
    "Going on from the previous list, what if we wanted to count the number of times the name 'Paul' came up?"
   ]
  },
  {
   "cell_type": "code",
   "execution_count": 8,
   "metadata": {},
   "outputs": [
    {
     "name": "stdout",
     "output_type": "stream",
     "text": [
      "There are 2 individuals with the name Paul in our medical records.\n"
     ]
    }
   ],
   "source": [
    "occurences_paul = [lst[0] for lst in medical_records].count(\"Paul\")\n",
    "\n",
    "print(\"There are {} individuals with the name Paul in our medical records.\".format(occurences_paul))"
   ]
  },
  {
   "cell_type": "markdown",
   "metadata": {},
   "source": [
    "This list comprehension method makes a new list from each of the 0th elements, something that slicing in python cannot achieve as far as I can tell, and counts those elements which are names that share the value \"Paul\"."
   ]
  }
 ],
 "metadata": {
  "kernelspec": {
   "display_name": "Python 3",
   "language": "python",
   "name": "python3"
  },
  "language_info": {
   "codemirror_mode": {
    "name": "ipython",
    "version": 3
   },
   "file_extension": ".py",
   "mimetype": "text/x-python",
   "name": "python",
   "nbconvert_exporter": "python",
   "pygments_lexer": "ipython3",
   "version": "3.8.5"
  }
 },
 "nbformat": 4,
 "nbformat_minor": 4
}
