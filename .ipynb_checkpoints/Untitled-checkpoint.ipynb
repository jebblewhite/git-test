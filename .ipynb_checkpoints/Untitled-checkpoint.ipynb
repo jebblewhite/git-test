{
 "cells": [
  {
   "cell_type": "markdown",
   "metadata": {},
   "source": [
    "# My git testing zone"
   ]
  },
  {
   "cell_type": "code",
   "execution_count": 11,
   "metadata": {},
   "outputs": [],
   "source": [
    "import matplotlib.pyplot as pl\n",
    "import numpy as np\n",
    "\n",
    "def append_sum(lst,i):\n",
    "  lst[i] = (lst[i-2]+lst[i-1])\n",
    "\n",
    "def fibonacci(n,lst):\n",
    "    for i in range(n-2):\n",
    "        append_sum(lst,i+2)\n",
    "\n",
    "n = 10 # number of fibonacci steps from first two numbers\n",
    "listoflists = np.zeros((21,21,n))\n",
    "for i in range(-10,11):\n",
    "    for j in range(-10,11):\n",
    "        listoflists[i+10][j+10][0] = i\n",
    "        listoflists[i+10][j+10][1] = j\n",
    "        fibonacci(n,listoflists[i+10][j+10])\n",
    "        \n",
    "        \n",
    "        \n",
    "\n",
    "        \n"
   ]
  },
  {
   "cell_type": "code",
   "execution_count": 12,
   "metadata": {},
   "outputs": [
    {
     "data": {
      "text/plain": [
       "array([[[ -10.,  -10.,  -20., ..., -210., -340., -550.],\n",
       "        [ -10.,   -9.,  -19., ..., -197., -319., -516.],\n",
       "        [ -10.,   -8.,  -18., ..., -184., -298., -482.],\n",
       "        ...,\n",
       "        [ -10.,    8.,   -2., ...,   24.,   38.,   62.],\n",
       "        [ -10.,    9.,   -1., ...,   37.,   59.,   96.],\n",
       "        [ -10.,   10.,    0., ...,   50.,   80.,  130.]],\n",
       "\n",
       "       [[  -9.,  -10.,  -19., ..., -202., -327., -529.],\n",
       "        [  -9.,   -9.,  -18., ..., -189., -306., -495.],\n",
       "        [  -9.,   -8.,  -17., ..., -176., -285., -461.],\n",
       "        ...,\n",
       "        [  -9.,    8.,   -1., ...,   32.,   51.,   83.],\n",
       "        [  -9.,    9.,    0., ...,   45.,   72.,  117.],\n",
       "        [  -9.,   10.,    1., ...,   58.,   93.,  151.]],\n",
       "\n",
       "       [[  -8.,  -10.,  -18., ..., -194., -314., -508.],\n",
       "        [  -8.,   -9.,  -17., ..., -181., -293., -474.],\n",
       "        [  -8.,   -8.,  -16., ..., -168., -272., -440.],\n",
       "        ...,\n",
       "        [  -8.,    8.,    0., ...,   40.,   64.,  104.],\n",
       "        [  -8.,    9.,    1., ...,   53.,   85.,  138.],\n",
       "        [  -8.,   10.,    2., ...,   66.,  106.,  172.]],\n",
       "\n",
       "       ...,\n",
       "\n",
       "       [[   8.,  -10.,   -2., ...,  -66., -106., -172.],\n",
       "        [   8.,   -9.,   -1., ...,  -53.,  -85., -138.],\n",
       "        [   8.,   -8.,    0., ...,  -40.,  -64., -104.],\n",
       "        ...,\n",
       "        [   8.,    8.,   16., ...,  168.,  272.,  440.],\n",
       "        [   8.,    9.,   17., ...,  181.,  293.,  474.],\n",
       "        [   8.,   10.,   18., ...,  194.,  314.,  508.]],\n",
       "\n",
       "       [[   9.,  -10.,   -1., ...,  -58.,  -93., -151.],\n",
       "        [   9.,   -9.,    0., ...,  -45.,  -72., -117.],\n",
       "        [   9.,   -8.,    1., ...,  -32.,  -51.,  -83.],\n",
       "        ...,\n",
       "        [   9.,    8.,   17., ...,  176.,  285.,  461.],\n",
       "        [   9.,    9.,   18., ...,  189.,  306.,  495.],\n",
       "        [   9.,   10.,   19., ...,  202.,  327.,  529.]],\n",
       "\n",
       "       [[  10.,  -10.,    0., ...,  -50.,  -80., -130.],\n",
       "        [  10.,   -9.,    1., ...,  -37.,  -59.,  -96.],\n",
       "        [  10.,   -8.,    2., ...,  -24.,  -38.,  -62.],\n",
       "        ...,\n",
       "        [  10.,    8.,   18., ...,  184.,  298.,  482.],\n",
       "        [  10.,    9.,   19., ...,  197.,  319.,  516.],\n",
       "        [  10.,   10.,   20., ...,  210.,  340.,  550.]]])"
      ]
     },
     "execution_count": 12,
     "metadata": {},
     "output_type": "execute_result"
    }
   ],
   "source": [
    "listoflists"
   ]
  },
  {
   "cell_type": "markdown",
   "metadata": {},
   "source": [
    "The goal of this project is to take the fibonacci sequence (0,1,1,2,3,5,8...) and look at how the starting numbers determine the outcome after 10 numbers. This will be visualised using the first two numbers as coordinates, and then shifting the window eg. (0,1), (1,1), (1,2)\n",
    "so that a plot can be made. This will be done for all values n1 =  -10:10 and n2 = -10:10.\n",
    "\n",
    "Hopefully it looks nice"
   ]
  },
  {
   "cell_type": "code",
   "execution_count": null,
   "metadata": {},
   "outputs": [],
   "source": [
    "def plotter(lst,i):\n",
    "  def append_coord(lst,i):\n",
    "    new_list.append([i-2],[i-1])\n",
    "  new_list = []\n",
    "    for i in range(len(lst)):\n",
    "        append_coord(lst,i)"
   ]
  },
  {
   "cell_type": "code",
   "execution_count": null,
   "metadata": {},
   "outputs": [],
   "source": [
    "for i in range(-10,11):\n",
    "    for j in range(-10,11):"
   ]
  },
  {
   "cell_type": "code",
   "execution_count": null,
   "metadata": {},
   "outputs": [],
   "source": []
  },
  {
   "cell_type": "code",
   "execution_count": null,
   "metadata": {},
   "outputs": [],
   "source": []
  },
  {
   "cell_type": "code",
   "execution_count": null,
   "metadata": {},
   "outputs": [],
   "source": []
  },
  {
   "cell_type": "code",
   "execution_count": null,
   "metadata": {},
   "outputs": [],
   "source": []
  },
  {
   "cell_type": "code",
   "execution_count": null,
   "metadata": {},
   "outputs": [],
   "source": []
  },
  {
   "cell_type": "code",
   "execution_count": null,
   "metadata": {},
   "outputs": [],
   "source": []
  }
 ],
 "metadata": {
  "kernelspec": {
   "display_name": "Python 3",
   "language": "python",
   "name": "python3"
  },
  "language_info": {
   "codemirror_mode": {
    "name": "ipython",
    "version": 3
   },
   "file_extension": ".py",
   "mimetype": "text/x-python",
   "name": "python",
   "nbconvert_exporter": "python",
   "pygments_lexer": "ipython3",
   "version": "3.8.5"
  }
 },
 "nbformat": 4,
 "nbformat_minor": 4
}
