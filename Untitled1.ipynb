{
 "cells": [
  {
   "cell_type": "markdown",
   "metadata": {},
   "source": [
    "# Making a preference sorting algorithm for Stu's milliMegagame (kilogame?)\n",
    "\n",
    "Using the rating system 2: strong preference to -2: pls no"
   ]
  },
  {
   "cell_type": "code",
   "execution_count": 18,
   "metadata": {},
   "outputs": [],
   "source": [
    "import matplotlib\n",
    "import matplotlib.pyplot as plt\n",
    "import numpy as np\n",
    "\n",
    "class Record(object):\n",
    "    def __init__(self,nam,us=0,uk=0,ussr=0,france=0,china=0,india=0,egypt=0):\n",
    "        self.nam = nam\n",
    "        self.us = us\n",
    "        self.uk = uk\n",
    "        self.ussr = ussr\n",
    "        self.france = france\n",
    "        self.china = china\n",
    "        self.india = india\n",
    "        self.egypt = egypt\n",
    "        self.matrix = {\n",
    "            \"US\": us,\n",
    "            \"UK\": uk,\n",
    "            \"USSR\": ussr,\n",
    "            \"France\": france,\n",
    "            \"China\": china,\n",
    "            \"India\": india,\n",
    "            \"Egypt\": egypt\n",
    "        }\n",
    "        records.append(self)\n",
    "        "
   ]
  },
  {
   "cell_type": "code",
   "execution_count": 19,
   "metadata": {},
   "outputs": [
    {
     "name": "stdout",
     "output_type": "stream",
     "text": [
      "{'US': 0, 'UK': 0, 'USSR': 0, 'France': 1, 'China': 1, 'India': 1, 'Egypt': 1}\n",
      "{'US': 2, 'UK': 0, 'USSR': 1, 'France': 0, 'China': 1, 'India': 0, 'Egypt': 0}\n",
      "{'US': 1, 'UK': -1, 'USSR': 0, 'France': -1, 'China': 0, 'India': 0, 'Egypt': 1}\n",
      "{'US': -1, 'UK': 0, 'USSR': 0, 'France': 1.5, 'China': 1.5, 'India': 1, 'Egypt': 0}\n",
      "{'US': 0, 'UK': 1, 'USSR': 1, 'France': 1, 'China': 0, 'India': 0, 'Egypt': 0}\n",
      "{'US': 0, 'UK': 0, 'USSR': 0, 'France': 0, 'China': 0, 'India': 0, 'Egypt': 0}\n"
     ]
    }
   ],
   "source": [
    "records = []\n",
    "\n",
    "jason = Record(\"Jason\",france=1,china=1,india=1,egypt=1)\n",
    "milo = Record(\"Milo\",us=2,ussr=1,china=1)\n",
    "alex = Record(\"Alex\",us=1,uk=-1,france=-1,egypt=1)\n",
    "angusm = Record(\"Angus M\",us=-1,france=1.5,china=1.5,india=1)\n",
    "josh = Record(\"Josh\",uk=1,ussr=1,france=1)\n",
    "angusb = Record(\"Angus B\",)\n",
    "\n",
    "for record in records:\n",
    "    print(record.matrix)"
   ]
  },
  {
   "cell_type": "code",
   "execution_count": 30,
   "metadata": {},
   "outputs": [
    {
     "data": {
      "image/png": "[encoded data removed]",
      "text/plain": [
       "<Figure size 432x288 with 1 Axes>"
      ]
     },
     "metadata": {
      "needs_background": "light"
     },
     "output_type": "display_data"
    }
   ],
   "source": [
    "labels = [record.nam for record in records]\n",
    "us = [record.us for record in records]\n",
    "uk = [record.uk for record in records]\n",
    "ussr = [record.ussr for record in records]\n",
    "france = [record.france for record in records]\n",
    "china = [record.china for record in records]\n",
    "india = [record.india for record in records]\n",
    "egypt = [record.egypt for record in records]\n",
    "\n",
    "\n",
    "x = np.arange(len(labels))  # the label locations\n",
    "width = 0.1  # the width of the bars\n",
    "\n",
    "fig, ax = plt.subplots()\n",
    "rects1 = ax.bar(x - 3*width/2, us, width, label='US')\n",
    "rects2 = ax.bar(x - width, uk, width, label='UK')\n",
    "rects3 = ax.bar(x - width/2, ussr, width, label='USSR')\n",
    "rects4 = ax.bar(x, france, width, label='France')\n",
    "rects5 = ax.bar(x + width/2, china, width, label='China')\n",
    "rects6 = ax.bar(x + width, india, width, label='India')\n",
    "rects7 = ax.bar(x + 3*width/2, egypt, width, label='Egypt')\n",
    "\n",
    "# Add some text for labels, title and custom x-axis tick labels, etc.\n",
    "ax.set_ylabel('Scores')\n",
    "ax.set_title('Scores by Person')\n",
    "ax.set_xticks(x)\n",
    "ax.set_xticklabels(labels)\n",
    "ax.legend()\n",
    "\n",
    "\n",
    "fig.tight_layout()\n",
    "ax.grid()\n",
    "ax.axhline(0)\n",
    "plt.show()"
   ]
  }
 ],
 "metadata": {
  "kernelspec": {
   "display_name": "Python 3",
   "language": "python",
   "name": "python3"
  },
  "language_info": {
   "codemirror_mode": {
    "name": "ipython",
    "version": 3
   },
   "file_extension": ".py",
   "mimetype": "text/x-python",
   "name": "python",
   "nbconvert_exporter": "python",
   "pygments_lexer": "ipython3",
   "version": "3.8.5"
  }
 },
 "nbformat": 4,
 "nbformat_minor": 4
}
